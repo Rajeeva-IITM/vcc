{
 "cells": [
  {
   "cell_type": "code",
   "execution_count": null,
   "id": "0",
   "metadata": {},
   "outputs": [],
   "source": [
    "import hvplot.polars  # noqa\n",
    "import hydra\n",
    "import numpy as np\n",
    "import pandas as pd\n",
    "import polars as pl\n",
    "import rootutils\n",
    "import torch\n",
    "from rich import print\n",
    "\n",
    "torch.set_float32_matmul_precision(\"high\")\n",
    "rootutils.setup_root(\"../\", pythonpath=True)"
   ]
  },
  {
   "cell_type": "code",
   "execution_count": null,
   "id": "1",
   "metadata": {},
   "outputs": [],
   "source": [
    "# setting up paths\n",
    "from pathlib import Path\n",
    "\n",
    "from dotenv import dotenv_values\n",
    "\n",
    "paths = dotenv_values()"
   ]
  },
  {
   "cell_type": "code",
   "execution_count": null,
   "id": "2",
   "metadata": {},
   "outputs": [],
   "source": [
    "run_dir = Path(paths[\"RUN_DIR\"])\n",
    "run_dir"
   ]
  },
  {
   "cell_type": "code",
   "execution_count": null,
   "id": "3",
   "metadata": {},
   "outputs": [],
   "source": [
    "from src.data.vcc_datamodule import VCCDataModule\n",
    "from src.models.vcc_lightning import VCCModule"
   ]
  },
  {
   "cell_type": "code",
   "execution_count": null,
   "id": "4",
   "metadata": {},
   "outputs": [],
   "source": [
    "with hydra.initialize(\"../config\", version_base=None):\n",
    "    conf = hydra.compose(\"train\", [\"model=model_attention\"])"
   ]
  },
  {
   "cell_type": "code",
   "execution_count": null,
   "id": "5",
   "metadata": {},
   "outputs": [],
   "source": [
    "print(conf)"
   ]
  },
  {
   "cell_type": "code",
   "execution_count": null,
   "id": "6",
   "metadata": {},
   "outputs": [],
   "source": [
    "datamodule = hydra.utils.instantiate(conf.data.datamodule)\n",
    "datamodule"
   ]
  },
  {
   "cell_type": "code",
   "execution_count": null,
   "id": "7",
   "metadata": {},
   "outputs": [],
   "source": [
    "net = hydra.utils.instantiate(conf.model.net)\n",
    "model = VCCModule.load_from_checkpoint(run_dir / \"VCC_02_08_2025/18-40/last.ckpt\", net=net)"
   ]
  },
  {
   "cell_type": "code",
   "execution_count": null,
   "id": "8",
   "metadata": {},
   "outputs": [],
   "source": [
    "model.eval()"
   ]
  },
  {
   "cell_type": "code",
   "execution_count": null,
   "id": "9",
   "metadata": {},
   "outputs": [],
   "source": [
    "trainer = hydra.utils.instantiate(conf.trainer)"
   ]
  },
  {
   "cell_type": "code",
   "execution_count": null,
   "id": "10",
   "metadata": {},
   "outputs": [],
   "source": [
    "prediction = trainer.predict(model, datamodule)"
   ]
  },
  {
   "cell_type": "code",
   "execution_count": null,
   "id": "11",
   "metadata": {},
   "outputs": [],
   "source": [
    "len(prediction)"
   ]
  },
  {
   "cell_type": "markdown",
   "id": "12",
   "metadata": {},
   "source": [
    "# Trying out cell-eval"
   ]
  },
  {
   "cell_type": "code",
   "execution_count": null,
   "id": "13",
   "metadata": {},
   "outputs": [],
   "source": [
    "# Save data so you dont have to do previous steps again and again\n",
    "X = np.vstack(prediction).astype(np.float32)\n",
    "print(X.shape)\n",
    "np.savez(\"../results/preds.npz\", X)"
   ]
  },
  {
   "cell_type": "code",
   "execution_count": null,
   "id": "14",
   "metadata": {},
   "outputs": [],
   "source": [
    "X = np.load(\"../results/preds.npz\")[\"arr_0\"]  # Care\n",
    "X"
   ]
  },
  {
   "cell_type": "code",
   "execution_count": null,
   "id": "15",
   "metadata": {},
   "outputs": [],
   "source": [
    "data_path = Path(paths[\"DATA_DIR\"])"
   ]
  },
  {
   "cell_type": "code",
   "execution_count": null,
   "id": "16",
   "metadata": {},
   "outputs": [],
   "source": [
    "validation_data = pl.read_csv(data_path / \"processed-data/pert_counts_Validation.csv\")\n",
    "validation_data"
   ]
  },
  {
   "cell_type": "raw",
   "id": "17",
   "metadata": {
    "vscode": {
     "languageId": "raw"
    }
   },
   "source": [
    "import anndata as ad\n",
    "adata = ad.read_h5ad(data_path / \"vcc_data/adata_Training.h5ad\")\n",
    "adata\n",
    "# Get non-targeting data\n",
    "\n",
    "nt_adata = adata[adata.obs['target_gene'] == 'non-targeting']\n",
    "nt_adata\n",
    "gene_names = adata.var.index"
   ]
  },
  {
   "cell_type": "code",
   "execution_count": null,
   "id": "18",
   "metadata": {},
   "outputs": [],
   "source": [
    "gene_names = pl.scan_parquet(conf.data.datamodule.control_data_path).collect_schema().names()[1:]\n",
    "gene_names[:10]"
   ]
  },
  {
   "cell_type": "code",
   "execution_count": null,
   "id": "19",
   "metadata": {},
   "outputs": [],
   "source": [
    "pred_df = pl.DataFrame(X, schema=gene_names)\n",
    "pred_df"
   ]
  },
  {
   "cell_type": "code",
   "execution_count": null,
   "id": "20",
   "metadata": {},
   "outputs": [],
   "source": [
    "pred_df.hvplot.hist(y=[\"SAMD11\", \"CCNL2\"], bins=50)"
   ]
  },
  {
   "cell_type": "code",
   "execution_count": null,
   "id": "21",
   "metadata": {},
   "outputs": [],
   "source": [
    "with open(\"../results/gene_names.csv\", \"w\") as f:\n",
    "    for gene in gene_names:\n",
    "        f.write(f\"{gene},\\n\")"
   ]
  },
  {
   "cell_type": "code",
   "execution_count": null,
   "id": "22",
   "metadata": {},
   "outputs": [],
   "source": [
    "target_genes = (\n",
    "    validation_data.with_columns(target_gene_2=pl.col(\"target_gene\").repeat_by(\"n_cells\"))\n",
    "    .select(pl.col(\"target_gene_2\").explode().alias(\"target_gene\"))\n",
    "    .to_pandas()\n",
    ")  # Generating the row annotations"
   ]
  },
  {
   "cell_type": "code",
   "execution_count": null,
   "id": "23",
   "metadata": {},
   "outputs": [],
   "source": [
    "# Processing non-targeting data\n",
    "\n",
    "nt_data = pl.read_parquet(conf.data.datamodule.control_data_path)\n",
    "nt_target_genes = (\n",
    "    nt_data.with_columns(pl.lit(\"non-targeting\").alias(\"target_gene\"))\n",
    "    .select(\"target_gene\")\n",
    "    .to_pandas()\n",
    ")\n",
    "nt_data = nt_data.select(pl.all().exclude(\"sample_index\")).to_numpy().astype(np.float32)"
   ]
  },
  {
   "cell_type": "code",
   "execution_count": null,
   "id": "24",
   "metadata": {},
   "outputs": [],
   "source": [
    "X = np.vstack([X.astype(np.float32), nt_data])\n",
    "target_genes = pd.concat([target_genes, nt_target_genes])\n",
    "\n",
    "target_genes"
   ]
  },
  {
   "cell_type": "code",
   "execution_count": null,
   "id": "25",
   "metadata": {},
   "outputs": [],
   "source": [
    "import anndata as ad"
   ]
  },
  {
   "cell_type": "code",
   "execution_count": null,
   "id": "26",
   "metadata": {},
   "outputs": [],
   "source": [
    "result = ad.AnnData(\n",
    "    X=X.astype(np.float32),  # So scipy.sparse doesn't cry\n",
    "    var=pd.DataFrame(index=gene_names),\n",
    "    obs=target_genes,\n",
    ")\n",
    "result"
   ]
  },
  {
   "cell_type": "code",
   "execution_count": null,
   "id": "27",
   "metadata": {},
   "outputs": [],
   "source": [
    "result.write_h5ad(\"../results/prediction_020825.h5ad\")"
   ]
  },
  {
   "cell_type": "code",
   "execution_count": null,
   "id": "28",
   "metadata": {},
   "outputs": [],
   "source": []
  }
 ],
 "metadata": {
  "kernelspec": {
   "display_name": "default",
   "language": "python",
   "name": "python3"
  },
  "language_info": {
   "codemirror_mode": {
    "name": "ipython",
    "version": 3
   },
   "file_extension": ".py",
   "mimetype": "text/x-python",
   "name": "python",
   "nbconvert_exporter": "python",
   "pygments_lexer": "ipython3",
   "version": "3.12.11"
  }
 },
 "nbformat": 4,
 "nbformat_minor": 5
}
