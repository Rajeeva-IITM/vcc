{
 "cells": [
  {
   "cell_type": "code",
   "execution_count": null,
   "id": "0",
   "metadata": {},
   "outputs": [],
   "source": [
    "import hvplot.polars  # noqa\n",
    "import hydra\n",
    "import numpy as np\n",
    "import pandas as pd\n",
    "import polars as pl\n",
    "import rootutils\n",
    "import torch\n",
    "from rich import print\n",
    "from tqdm import tqdm\n",
    "\n",
    "torch.set_float32_matmul_precision(\"high\")\n",
    "rootutils.setup_root(\"../\", pythonpath=True)"
   ]
  },
  {
   "cell_type": "code",
   "execution_count": null,
   "id": "1",
   "metadata": {},
   "outputs": [],
   "source": [
    "# setting up paths\n",
    "from pathlib import Path\n",
    "\n",
    "from dotenv import dotenv_values\n",
    "\n",
    "paths = dotenv_values()"
   ]
  },
  {
   "cell_type": "code",
   "execution_count": null,
   "id": "2",
   "metadata": {},
   "outputs": [],
   "source": [
    "paths"
   ]
  },
  {
   "cell_type": "code",
   "execution_count": null,
   "id": "3",
   "metadata": {},
   "outputs": [],
   "source": [
    "run_dir = Path(paths[\"RUN_DIR\"])\n",
    "run_dir"
   ]
  },
  {
   "cell_type": "code",
   "execution_count": null,
   "id": "4",
   "metadata": {},
   "outputs": [],
   "source": [
    "from src.data.vcc_embedding_module import VCCDataModule"
   ]
  },
  {
   "cell_type": "code",
   "execution_count": null,
   "id": "5",
   "metadata": {},
   "outputs": [],
   "source": [
    "with hydra.initialize(\"../config\", version_base=None):\n",
    "    conf = hydra.compose(\n",
    "        \"train\",\n",
    "        [\n",
    "            \"model=projection_model_base\",\n",
    "            \"data=dataset_embedding\",\n",
    "            \"trainer.devices=[3]\",\n",
    "            \"trainer.precision=32\",\n",
    "            f\"data.datamodule.gene_embedding_path={paths['DATA_DIR'] + '/gene_embeddings/poincare_go_gaf_logmapped_256.parquet'}\",\n",
    "        ],\n",
    "    )"
   ]
  },
  {
   "cell_type": "code",
   "execution_count": null,
   "id": "6",
   "metadata": {},
   "outputs": [],
   "source": [
    "print(conf)"
   ]
  },
  {
   "cell_type": "code",
   "execution_count": null,
   "id": "7",
   "metadata": {},
   "outputs": [],
   "source": [
    "datamodule: VCCDataModule = hydra.utils.instantiate(conf.data.datamodule)\n",
    "datamodule"
   ]
  },
  {
   "cell_type": "code",
   "execution_count": null,
   "id": "8",
   "metadata": {},
   "outputs": [],
   "source": [
    "# from src.models.vcc_lightning import VCCModule\n",
    "from src.models.projectionvcc_lightning import VCCModule\n",
    "\n",
    "# net = hydra.utils.instantiate(conf.model.net)\n",
    "model = VCCModule.load_from_checkpoint(run_dir / \"VCC_31_08_2025/00-52-18/last.ckpt\")"
   ]
  },
  {
   "cell_type": "code",
   "execution_count": null,
   "id": "9",
   "metadata": {},
   "outputs": [],
   "source": [
    "model.eval()"
   ]
  },
  {
   "cell_type": "code",
   "execution_count": null,
   "id": "10",
   "metadata": {},
   "outputs": [],
   "source": [
    "model.contrastive_loss.gene_hyperbolic"
   ]
  },
  {
   "cell_type": "code",
   "execution_count": null,
   "id": "11",
   "metadata": {},
   "outputs": [],
   "source": [
    "model.compile(fullgraph=True, mode=\"reduce-overhead\")"
   ]
  },
  {
   "cell_type": "code",
   "execution_count": null,
   "id": "12",
   "metadata": {},
   "outputs": [],
   "source": [
    "trainer = hydra.utils.instantiate(conf.trainer)"
   ]
  },
  {
   "cell_type": "code",
   "execution_count": null,
   "id": "13",
   "metadata": {},
   "outputs": [],
   "source": [
    "prediction = trainer.predict(model, datamodule)"
   ]
  },
  {
   "cell_type": "code",
   "execution_count": null,
   "id": "14",
   "metadata": {},
   "outputs": [],
   "source": [
    "len(prediction)"
   ]
  },
  {
   "cell_type": "code",
   "execution_count": null,
   "id": "15",
   "metadata": {},
   "outputs": [],
   "source": [
    "prediction[0][0]"
   ]
  },
  {
   "cell_type": "code",
   "execution_count": null,
   "id": "16",
   "metadata": {},
   "outputs": [],
   "source": [
    "latent = [pred[1] for pred in prediction]\n",
    "prediction = [pred[0] for pred in prediction]\n",
    "latent[:2]"
   ]
  },
  {
   "cell_type": "markdown",
   "id": "17",
   "metadata": {},
   "source": [
    "# Studing performance"
   ]
  },
  {
   "cell_type": "code",
   "execution_count": null,
   "id": "18",
   "metadata": {},
   "outputs": [],
   "source": [
    "datamodule.setup(\"predict\")"
   ]
  },
  {
   "cell_type": "code",
   "execution_count": null,
   "id": "19",
   "metadata": {},
   "outputs": [],
   "source": [
    "latent = torch.cat(latent)"
   ]
  },
  {
   "cell_type": "code",
   "execution_count": null,
   "id": "20",
   "metadata": {},
   "outputs": [],
   "source": [
    "y_pred = torch.load(run_dir / \"VCC_29_08_2025/20-40-00/predictions.pt\")"
   ]
  },
  {
   "cell_type": "code",
   "execution_count": null,
   "id": "21",
   "metadata": {},
   "outputs": [],
   "source": [
    "y_pred = torch.cat(prediction).to(torch.float32)\n",
    "y_pred"
   ]
  },
  {
   "cell_type": "code",
   "execution_count": null,
   "id": "22",
   "metadata": {},
   "outputs": [],
   "source": [
    "import matplotlib.pyplot as plt\n",
    "import seaborn as sns"
   ]
  },
  {
   "cell_type": "code",
   "execution_count": null,
   "id": "23",
   "metadata": {},
   "outputs": [],
   "source": [
    "genes, counts = np.unique(datamodule.test_data.perturbed_genes, return_counts=True)\n",
    "genes, counts"
   ]
  },
  {
   "cell_type": "code",
   "execution_count": null,
   "id": "24",
   "metadata": {},
   "outputs": [],
   "source": [
    "np.median(counts)"
   ]
  },
  {
   "cell_type": "code",
   "execution_count": null,
   "id": "25",
   "metadata": {},
   "outputs": [],
   "source": [
    "torch.from_numpy(datamodule.test_data.gene_embeddings.values).corrcoef()"
   ]
  },
  {
   "cell_type": "code",
   "execution_count": null,
   "id": "26",
   "metadata": {},
   "outputs": [],
   "source": [
    "datamodule.test_data.gene_embeddings.loc[genes].T.corr().to_numpy()"
   ]
  },
  {
   "cell_type": "code",
   "execution_count": null,
   "id": "27",
   "metadata": {},
   "outputs": [],
   "source": [
    "from umap import UMAP\n",
    "\n",
    "embedder = UMAP(n_neighbors=15)\n",
    "embedding = embedder.fit_transform(y_pred)"
   ]
  },
  {
   "cell_type": "code",
   "execution_count": null,
   "id": "28",
   "metadata": {},
   "outputs": [],
   "source": [
    "fig, ax = plt.subplots(figsize=(9, 8))\n",
    "embedding_df = pl.DataFrame(\n",
    "    data={\n",
    "        \"umap-0\": embedding[:, 0],\n",
    "        \"umap-1\": embedding[:, 1],\n",
    "        \"gene\": datamodule.test_data.perturbed_genes,\n",
    "    }\n",
    ").sort(\"gene\")\n",
    "avg_data = embedding_df.group_by(\"gene\").agg(pl.all().mean())\n",
    "\n",
    "\n",
    "sns.scatterplot(\n",
    "    x=embedding[:, 0],\n",
    "    y=embedding[:, 1],\n",
    "    hue=datamodule.test_data.perturbed_genes,\n",
    "    ax=ax,\n",
    "    alpha=0.7,\n",
    ")\n",
    "handles, labels = plt.gca().get_legend_handles_labels()\n",
    "\n",
    "sorted_pairs = sorted(zip(labels, handles))\n",
    "sorted_labels = [label for label, handle in sorted_pairs]\n",
    "sorted_handles = [handle for label, handle in sorted_pairs]\n",
    "plt.legend(sorted_handles, sorted_labels, bbox_to_anchor=(1, 1), ncol=3)\n",
    "\n",
    "for row in avg_data.iter_rows(named=True):\n",
    "    ax.text(x=row[\"umap-0\"], y=row[\"umap-1\"], s=row[\"gene\"], ha=\"center\", va=\"center\")\n",
    "\n",
    "ax.set_title(\"Projection UMAP\", size=12)"
   ]
  },
  {
   "cell_type": "code",
   "execution_count": null,
   "id": "29",
   "metadata": {},
   "outputs": [],
   "source": [
    "y_pred_linear = torch.exp(y_pred) - 1\n",
    "y_pred_linear"
   ]
  },
  {
   "cell_type": "code",
   "execution_count": null,
   "id": "30",
   "metadata": {},
   "outputs": [],
   "source": [
    "y_pred_linear.var(dim=0)"
   ]
  },
  {
   "cell_type": "code",
   "execution_count": null,
   "id": "31",
   "metadata": {},
   "outputs": [],
   "source": [
    "y_pred_linear.mean(axis=0)"
   ]
  },
  {
   "cell_type": "code",
   "execution_count": null,
   "id": "32",
   "metadata": {},
   "outputs": [],
   "source": [
    "datamodule.test_data.perturbed_genes"
   ]
  },
  {
   "cell_type": "code",
   "execution_count": null,
   "id": "33",
   "metadata": {},
   "outputs": [],
   "source": [
    "from sklearn.metrics import (\n",
    "    calinski_harabasz_score,\n",
    "    davies_bouldin_score,\n",
    "    silhouette_score,\n",
    ")"
   ]
  },
  {
   "cell_type": "code",
   "execution_count": null,
   "id": "34",
   "metadata": {},
   "outputs": [],
   "source": [
    "silhouette_score(y_pred.cpu(), datamodule.test_data.perturbed_genes)"
   ]
  },
  {
   "cell_type": "code",
   "execution_count": null,
   "id": "35",
   "metadata": {},
   "outputs": [],
   "source": [
    "davies_bouldin_score(y_pred.cpu(), datamodule.test_data.perturbed_genes)"
   ]
  },
  {
   "cell_type": "code",
   "execution_count": null,
   "id": "36",
   "metadata": {},
   "outputs": [],
   "source": [
    "calinski_harabasz_score(y_pred.cpu(), datamodule.test_data.perturbed_genes)"
   ]
  },
  {
   "cell_type": "markdown",
   "id": "37",
   "metadata": {},
   "source": [
    "# Trying out cell-eval"
   ]
  },
  {
   "cell_type": "code",
   "execution_count": null,
   "id": "38",
   "metadata": {},
   "outputs": [],
   "source": [
    "torch.cat(prediction).shape"
   ]
  },
  {
   "cell_type": "code",
   "execution_count": null,
   "id": "39",
   "metadata": {},
   "outputs": [],
   "source": [
    "# Save data so you dont have to do previous steps again and again\n",
    "X = torch.cat(prediction).to(torch.float16).numpy()\n",
    "print(X.shape)\n",
    "# np.savez(\"../results/preds.npz\", X)"
   ]
  },
  {
   "cell_type": "code",
   "execution_count": null,
   "id": "40",
   "metadata": {},
   "outputs": [],
   "source": [
    "X = np.load(\"../results/preds.npz\")[\"arr_0\"]  # Care\n",
    "X"
   ]
  },
  {
   "cell_type": "code",
   "execution_count": null,
   "id": "41",
   "metadata": {},
   "outputs": [],
   "source": [
    "data_path = Path(paths[\"DATA_DIR\"])"
   ]
  },
  {
   "cell_type": "code",
   "execution_count": null,
   "id": "42",
   "metadata": {},
   "outputs": [],
   "source": [
    "validation_data = pl.read_csv(data_path / \"processed-data/pert_counts_Validation.csv\")\n",
    "validation_data"
   ]
  },
  {
   "cell_type": "raw",
   "id": "43",
   "metadata": {
    "vscode": {
     "languageId": "raw"
    }
   },
   "source": [
    "import anndata as ad\n",
    "adata = ad.read_h5ad(data_path / \"vcc_data/adata_Training.h5ad\")\n",
    "adata\n",
    "# Get non-targeting data\n",
    "\n",
    "nt_adata = adata[adata.obs['target_gene'] == 'non-targeting']\n",
    "nt_adata\n",
    "gene_names = adata.var.index"
   ]
  },
  {
   "cell_type": "code",
   "execution_count": null,
   "id": "44",
   "metadata": {},
   "outputs": [],
   "source": [
    "gene_names = pl.scan_parquet(conf.data.datamodule.control_data_path).collect_schema().names()[1:]\n",
    "gene_names[:10]"
   ]
  },
  {
   "cell_type": "code",
   "execution_count": null,
   "id": "45",
   "metadata": {},
   "outputs": [],
   "source": [
    "pred_df = pl.DataFrame(X, schema=gene_names)\n",
    "pred_df"
   ]
  },
  {
   "cell_type": "raw",
   "id": "46",
   "metadata": {
    "vscode": {
     "languageId": "raw"
    }
   },
   "source": [
    "with open(\"../results/gene_names.csv\", \"w\") as f:\n",
    "    for gene in gene_names:\n",
    "        f.write(f\"{gene},\\n\")"
   ]
  },
  {
   "cell_type": "code",
   "execution_count": null,
   "id": "47",
   "metadata": {},
   "outputs": [],
   "source": [
    "target_genes = (\n",
    "    validation_data.with_columns(target_gene_2=pl.col(\"target_gene\").repeat_by(\"n_cells\"))\n",
    "    .select(pl.col(\"target_gene_2\").explode().alias(\"target_gene\"))\n",
    "    .to_pandas()\n",
    ")  # Generating the row annotations"
   ]
  },
  {
   "cell_type": "code",
   "execution_count": null,
   "id": "48",
   "metadata": {},
   "outputs": [],
   "source": [
    "# Processing non-targeting data\n",
    "\n",
    "nt_data = pl.read_parquet(conf.data.datamodule.control_data_path)\n",
    "nt_target_genes = (\n",
    "    nt_data.with_columns(pl.lit(\"non-targeting\").alias(\"target_gene\"))\n",
    "    .select(\"target_gene\")\n",
    "    .to_pandas()\n",
    ")\n",
    "nt_data = nt_data.select(pl.all().exclude(\"sample_index\")).to_numpy().astype(np.float32)"
   ]
  },
  {
   "cell_type": "code",
   "execution_count": null,
   "id": "49",
   "metadata": {},
   "outputs": [],
   "source": [
    "X = np.vstack([X.astype(np.float32), nt_data])\n",
    "target_genes = pd.concat([target_genes, nt_target_genes])\n",
    "\n",
    "target_genes"
   ]
  },
  {
   "cell_type": "code",
   "execution_count": null,
   "id": "50",
   "metadata": {},
   "outputs": [],
   "source": [
    "import anndata as ad"
   ]
  },
  {
   "cell_type": "code",
   "execution_count": null,
   "id": "51",
   "metadata": {},
   "outputs": [],
   "source": [
    "result = ad.AnnData(\n",
    "    X=X.astype(np.float32),  # So scipy.sparse doesn't cry\n",
    "    var=pd.DataFrame(index=gene_names),\n",
    "    obs=target_genes,\n",
    ")\n",
    "result"
   ]
  },
  {
   "cell_type": "code",
   "execution_count": null,
   "id": "52",
   "metadata": {},
   "outputs": [],
   "source": [
    "result.write_h5ad(\"../results/prediction_280825.h5ad\")"
   ]
  },
  {
   "cell_type": "code",
   "execution_count": null,
   "id": "53",
   "metadata": {},
   "outputs": [],
   "source": []
  }
 ],
 "metadata": {
  "kernelspec": {
   "display_name": "default",
   "language": "python",
   "name": "python3"
  },
  "language_info": {
   "codemirror_mode": {
    "name": "ipython",
    "version": 3
   },
   "file_extension": ".py",
   "mimetype": "text/x-python",
   "name": "python",
   "nbconvert_exporter": "python",
   "pygments_lexer": "ipython3",
   "version": "3.12.11"
  }
 },
 "nbformat": 4,
 "nbformat_minor": 5
}
