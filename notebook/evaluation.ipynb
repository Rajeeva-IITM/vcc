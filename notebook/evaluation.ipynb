{
 "cells": [
  {
   "cell_type": "code",
   "execution_count": null,
   "id": "0",
   "metadata": {},
   "outputs": [],
   "source": [
    "import hvplot.polars  # noqa\n",
    "import hydra\n",
    "import matplotlib.pyplot as plt\n",
    "import numpy as np\n",
    "import pandas as pd\n",
    "import polars as pl\n",
    "import rootutils\n",
    "import seaborn as sns\n",
    "import torch\n",
    "from rich import print\n",
    "from tqdm import tqdm\n",
    "\n",
    "torch.set_float32_matmul_precision(\"high\")\n",
    "rootutils.setup_root(\"../\", pythonpath=True)"
   ]
  },
  {
   "cell_type": "code",
   "execution_count": null,
   "id": "1",
   "metadata": {},
   "outputs": [],
   "source": [
    "# setting up paths\n",
    "from pathlib import Path\n",
    "\n",
    "from dotenv import dotenv_values\n",
    "\n",
    "paths = dotenv_values()"
   ]
  },
  {
   "cell_type": "code",
   "execution_count": null,
   "id": "2",
   "metadata": {},
   "outputs": [],
   "source": [
    "paths"
   ]
  },
  {
   "cell_type": "code",
   "execution_count": null,
   "id": "3",
   "metadata": {},
   "outputs": [],
   "source": [
    "run_dir = Path(paths[\"RUN_DIR\"])\n",
    "run_dir"
   ]
  },
  {
   "cell_type": "code",
   "execution_count": null,
   "id": "4",
   "metadata": {},
   "outputs": [],
   "source": [
    "from src.data.vcc_embedding_module import VCCDataModule"
   ]
  },
  {
   "cell_type": "code",
   "execution_count": null,
   "id": "5",
   "metadata": {},
   "outputs": [],
   "source": [
    "with hydra.initialize(\"../config\", version_base=None):\n",
    "    conf = hydra.compose(\n",
    "        \"train\",\n",
    "        [\n",
    "            \"model=model_film_full\",\n",
    "            \"data=dataset_embedding\",\n",
    "            # \"trainer.devices=[3]\",\n",
    "            \"trainer.precision=32\",\n",
    "            f\"data.datamodule.gene_embedding_path={paths['DATA_DIR'] + '/gene_embeddings/poincare_go_gaf_logmapped_256.parquet'}\",\n",
    "        ],\n",
    "    )"
   ]
  },
  {
   "cell_type": "code",
   "execution_count": null,
   "id": "6",
   "metadata": {},
   "outputs": [],
   "source": [
    "print(conf)"
   ]
  },
  {
   "cell_type": "code",
   "execution_count": null,
   "id": "7",
   "metadata": {},
   "outputs": [],
   "source": [
    "datamodule: VCCDataModule = hydra.utils.instantiate(conf.data.datamodule)\n",
    "datamodule"
   ]
  },
  {
   "cell_type": "code",
   "execution_count": null,
   "id": "8",
   "metadata": {},
   "outputs": [],
   "source": [
    "checkpoint = torch.load(run_dir / \"VCC_17_09_2025/22-02-39/last.ckpt\", weights_only=False)"
   ]
  },
  {
   "cell_type": "code",
   "execution_count": null,
   "id": "9",
   "metadata": {},
   "outputs": [],
   "source": [
    "model = hydra.utils.instantiate(conf.model)"
   ]
  },
  {
   "cell_type": "code",
   "execution_count": null,
   "id": "10",
   "metadata": {},
   "outputs": [],
   "source": [
    "model.load_state_dict(checkpoint[\"state_dict\"])"
   ]
  },
  {
   "cell_type": "code",
   "execution_count": null,
   "id": "11",
   "metadata": {},
   "outputs": [],
   "source": [
    "# from src.models.vcc_lightning import VCCModule\n",
    "from src.models.projectionvcc_lightning import VCCModule\n",
    "\n",
    "# net = hydra.utils.instantiate(conf.model.net)\n",
    "model = VCCModule.load_from_checkpoint(run_dir / \"VCC_11_09_2025/14-05-05/last.ckpt\")"
   ]
  },
  {
   "cell_type": "code",
   "execution_count": null,
   "id": "12",
   "metadata": {},
   "outputs": [],
   "source": [
    "[param for param in model.parameters()]"
   ]
  },
  {
   "cell_type": "code",
   "execution_count": null,
   "id": "13",
   "metadata": {},
   "outputs": [],
   "source": [
    "model.eval()"
   ]
  },
  {
   "cell_type": "code",
   "execution_count": null,
   "id": "14",
   "metadata": {},
   "outputs": [],
   "source": [
    "model.compile(fullgraph=True, mode=\"reduce-overhead\")"
   ]
  },
  {
   "cell_type": "code",
   "execution_count": null,
   "id": "15",
   "metadata": {},
   "outputs": [],
   "source": [
    "trainer = hydra.utils.instantiate(conf.trainer)"
   ]
  },
  {
   "cell_type": "code",
   "execution_count": null,
   "id": "16",
   "metadata": {},
   "outputs": [],
   "source": [
    "prediction = trainer.predict(model, datamodule)"
   ]
  },
  {
   "cell_type": "code",
   "execution_count": null,
   "id": "17",
   "metadata": {},
   "outputs": [],
   "source": [
    "len(prediction)"
   ]
  },
  {
   "cell_type": "code",
   "execution_count": null,
   "id": "18",
   "metadata": {},
   "outputs": [],
   "source": [
    "prediction[0][0]"
   ]
  },
  {
   "cell_type": "code",
   "execution_count": null,
   "id": "19",
   "metadata": {},
   "outputs": [],
   "source": [
    "latent = [pred[1] for pred in prediction]\n",
    "prediction = [pred[0] for pred in prediction]\n",
    "latent[:2]"
   ]
  },
  {
   "cell_type": "markdown",
   "id": "20",
   "metadata": {},
   "source": [
    "# Studing performance"
   ]
  },
  {
   "cell_type": "code",
   "execution_count": null,
   "id": "21",
   "metadata": {},
   "outputs": [],
   "source": [
    "y_pred = torch.load(run_dir / \"VCC_07_09_2025/16-09-10/predictions.pt\")"
   ]
  },
  {
   "cell_type": "code",
   "execution_count": null,
   "id": "22",
   "metadata": {},
   "outputs": [],
   "source": [
    "datamodule.setup(\"predict\")"
   ]
  },
  {
   "cell_type": "code",
   "execution_count": null,
   "id": "23",
   "metadata": {},
   "outputs": [],
   "source": [
    "y_pred = torch.cat(prediction).to(torch.float32)\n",
    "y_pred"
   ]
  },
  {
   "cell_type": "code",
   "execution_count": null,
   "id": "24",
   "metadata": {},
   "outputs": [],
   "source": [
    "y_pred = torch.relu(y_pred)"
   ]
  },
  {
   "cell_type": "code",
   "execution_count": null,
   "id": "25",
   "metadata": {},
   "outputs": [],
   "source": [
    "genes, counts = np.unique(datamodule.test_data.perturbed_genes, return_counts=True)\n",
    "genes, counts"
   ]
  },
  {
   "cell_type": "code",
   "execution_count": null,
   "id": "26",
   "metadata": {},
   "outputs": [],
   "source": [
    "np.median(counts)"
   ]
  },
  {
   "cell_type": "code",
   "execution_count": null,
   "id": "27",
   "metadata": {},
   "outputs": [],
   "source": [
    "y_pred.std(dim=0)"
   ]
  },
  {
   "cell_type": "code",
   "execution_count": null,
   "id": "28",
   "metadata": {},
   "outputs": [],
   "source": [
    "from src.utils.umap_utilities import Turbo256, perform_umap, plot_output_plotly"
   ]
  },
  {
   "cell_type": "code",
   "execution_count": null,
   "id": "29",
   "metadata": {},
   "outputs": [],
   "source": [
    "spread_palette = np.random.choice([Turbo256[i * 5] for i, _ in enumerate(genes)], size=len(genes))"
   ]
  },
  {
   "cell_type": "code",
   "execution_count": null,
   "id": "30",
   "metadata": {},
   "outputs": [],
   "source": [
    "embedding_df = perform_umap(y_pred, genes=datamodule.test_data.perturbed_genes, n_jobs=10)\n",
    "fig = plot_output_plotly(embedding_df)\n",
    "fig"
   ]
  },
  {
   "cell_type": "code",
   "execution_count": null,
   "id": "31",
   "metadata": {},
   "outputs": [],
   "source": [
    "projection_df = perform_umap(\n",
    "    torch.cat(latent),\n",
    "    genes=datamodule.test_data.perturbed_genes,\n",
    ")\n",
    "plot_output_plotly(projection_df)"
   ]
  },
  {
   "cell_type": "code",
   "execution_count": null,
   "id": "32",
   "metadata": {},
   "outputs": [],
   "source": [
    "topk_indices = (y_pred - datamodule.test_data.control_expression).abs().topk(5)[1].numpy().tolist()\n",
    "topk_indices[:10]"
   ]
  },
  {
   "cell_type": "code",
   "execution_count": null,
   "id": "33",
   "metadata": {},
   "outputs": [],
   "source": [
    "top_genes = []\n",
    "genes_all = np.asarray(list(datamodule.test_data.gene_embeddings.keys()))"
   ]
  },
  {
   "cell_type": "code",
   "execution_count": null,
   "id": "34",
   "metadata": {},
   "outputs": [],
   "source": [
    "for _ in tqdm(topk_indices):\n",
    "    top_genes.append(genes_all[_].tolist())"
   ]
  },
  {
   "cell_type": "code",
   "execution_count": null,
   "id": "35",
   "metadata": {},
   "outputs": [],
   "source": [
    "top_genes_df = pl.DataFrame(\n",
    "    {\"top_genes\": top_genes, \"target_genes\": datamodule.test_data.perturbed_genes}\n",
    ")\n",
    "top_genes_df"
   ]
  },
  {
   "cell_type": "code",
   "execution_count": null,
   "id": "36",
   "metadata": {},
   "outputs": [],
   "source": [
    "top_genes_df[\"target_genes\"].value_counts()"
   ]
  },
  {
   "cell_type": "code",
   "execution_count": null,
   "id": "37",
   "metadata": {},
   "outputs": [],
   "source": [
    "processed_top_df = (\n",
    "    top_genes_df.explode(\"top_genes\")\n",
    "    .group_by(\"target_genes\")\n",
    "    .agg(pl.col(\"top_genes\"))\n",
    "    .join(\n",
    "        top_genes_df[\"target_genes\"].value_counts().rename({\"count\": \"num_samples\"}),\n",
    "        on=\"target_genes\",\n",
    "    )\n",
    "    .explode(\"top_genes\")\n",
    "    .group_by(\"target_genes\")\n",
    "    .agg(pl.col(\"top_genes\").value_counts(), \"num_samples\")\n",
    "    .explode(\"top_genes\")\n",
    "    .with_columns(\n",
    "        pl.col(\"top_genes\").struct.unnest(),\n",
    "    )\n",
    "    .with_columns(\n",
    "        fraction=pl.col(\"count\") / pl.col(\"num_samples\").list.mean(),\n",
    "        num_samples=pl.col(\"num_samples\").list.mean(),\n",
    "    )\n",
    "    .sort(\"fraction\", descending=True)\n",
    "    # .filter(pl.col('fraction') > 0.25)\n",
    ")\n",
    "processed_top_df"
   ]
  },
  {
   "cell_type": "code",
   "execution_count": null,
   "id": "38",
   "metadata": {},
   "outputs": [],
   "source": [
    "processed_top_df[\"fraction\"].quantile(0.5)"
   ]
  },
  {
   "cell_type": "code",
   "execution_count": null,
   "id": "39",
   "metadata": {},
   "outputs": [],
   "source": [
    "import altair as alt\n",
    "\n",
    "alt.data_transformers.enable(\"vegafusion\")\n",
    "alt.theme.enable(\"latimes\")"
   ]
  },
  {
   "cell_type": "code",
   "execution_count": null,
   "id": "40",
   "metadata": {},
   "outputs": [],
   "source": [
    "alt.Chart(processed_top_df).mark_bar().encode(\n",
    "    alt.X(\"fraction\", title=\"Fraction of samples\").bin(maxbins=50),\n",
    "    alt.Y(\"count()\").scale(type=\"log\"),\n",
    ") + alt.Chart().mark_rule().encode(x=alt.X(datum=processed_top_df[\"fraction\"].quantile(0.95)))"
   ]
  },
  {
   "cell_type": "code",
   "execution_count": null,
   "id": "41",
   "metadata": {},
   "outputs": [],
   "source": [
    "filtered_top_genes = processed_top_df.filter(pl.col(\"count\") > pl.col(\"count\").quantile(0.95))\n",
    "filtered_top_genes"
   ]
  },
  {
   "cell_type": "code",
   "execution_count": null,
   "id": "42",
   "metadata": {},
   "outputs": [],
   "source": [
    "small_df = embedding_df.sample(5000)\n",
    "brush = alt.selection_interval(zoom=False)\n",
    "selector = alt.selection_point(fields=[\"gene\"])\n",
    "selector_legend = alt.selection_point(fields=[\"gene\"], bind=\"legend\")\n",
    "\n",
    "scatter = (\n",
    "    alt.Chart(small_df, title=alt.Title(\"UMAP plot\", anchor=\"middle\"))\n",
    "    .mark_circle()\n",
    "    .encode(\n",
    "        alt.X(\"UMAP-0:Q\"),\n",
    "        alt.Y(\"UMAP-1:Q\"),\n",
    "        color=alt.when(selector_legend)\n",
    "        .then(\n",
    "            alt.Color(\"gene:N\", scale=alt.Scale(range=spread_palette), title=\"Target gene\").legend(\n",
    "                columns=3, symbolLimit=50\n",
    "            )\n",
    "        )\n",
    "        .otherwise(alt.value(\"lightgray\")),\n",
    "        opacity=alt.when(selector_legend).then(alt.value(0.91)).otherwise(alt.value(0.05)),\n",
    "        tooltip=[\"gene\"],\n",
    "    )\n",
    "    .add_params(brush, selector_legend)\n",
    "    .transform_filter(\n",
    "        selector,\n",
    "        # selector_legend\n",
    "    )\n",
    ")\n",
    "\n",
    "composition = (\n",
    "    alt.Chart(small_df, title=alt.Title(\"Composition\", anchor=\"middle\"))\n",
    "    .mark_arc(innerRadius=70, outerRadius=170)\n",
    "    .encode(theta=\"count(gene):Q\", color=(\"gene:N\"), tooltip=[\"gene\"])\n",
    "    .transform_filter(brush)\n",
    "    .add_params(selector)\n",
    ")\n",
    "\n",
    "# text =  composition.mark_text(radius=140, size=20, align='center').encode(text='gene:N', color=alt.value('black'))\n",
    "\n",
    "(scatter.properties(width=500, height=500) | composition.properties(width=500, height=500))"
   ]
  },
  {
   "cell_type": "code",
   "execution_count": null,
   "id": "43",
   "metadata": {},
   "outputs": [],
   "source": [
    "alt.Chart(filtered_top_genes).mark_circle().encode(\n",
    "    alt.X(\"top_genes:N\", axis=alt.Axis(labelAngle=45)),\n",
    "    alt.Y(\"target_genes:O\").sort(field=\"fraction\", op=\"median\", order=\"descending\"),\n",
    "    color=alt.Color(\"fraction:N\").bin(maxbins=7),\n",
    "    size=alt.Size(\"fraction:Q\"),\n",
    "    tooltip=[\"top_genes\", \"target_genes\", \"fraction\"],\n",
    ").properties(width=1200)"
   ]
  },
  {
   "cell_type": "code",
   "execution_count": null,
   "id": "44",
   "metadata": {},
   "outputs": [],
   "source": [
    "processed_top_df"
   ]
  },
  {
   "cell_type": "code",
   "execution_count": null,
   "id": "45",
   "metadata": {},
   "outputs": [],
   "source": [
    "matrix_df = processed_top_df.pivot(\n",
    "    on=\"top_genes\", values=\"fraction\", index=\"target_genes\"\n",
    ").fill_null(0)\n",
    "matrix_df"
   ]
  },
  {
   "cell_type": "code",
   "execution_count": null,
   "id": "46",
   "metadata": {},
   "outputs": [],
   "source": [
    "filtered_top_genes"
   ]
  },
  {
   "cell_type": "code",
   "execution_count": null,
   "id": "47",
   "metadata": {},
   "outputs": [],
   "source": [
    "filtered_top_genes.group_by(\"target_genes\").agg(\n",
    "    pl.all(), group_fraction=pl.col(\"fraction\").median()\n",
    ")"
   ]
  },
  {
   "cell_type": "code",
   "execution_count": null,
   "id": "48",
   "metadata": {},
   "outputs": [],
   "source": [
    "row_selection = alt.selection_point(fields=[\"target_genes\"], on=\"click\", empty=\"none\")\n",
    "\n",
    "color_selection = (\n",
    "    alt.when(row_selection)\n",
    "    .then(alt.value(\"black\"))\n",
    "    .otherwise(\n",
    "        alt.Color(\n",
    "            \"fraction:Q\",\n",
    "            bin=True,\n",
    "        ).scale(scheme=\"viridis\")\n",
    "    )\n",
    ")\n",
    "\n",
    "base = (\n",
    "    alt.Chart(filtered_top_genes)\n",
    "    .mark_rect()\n",
    "    .encode(\n",
    "        alt.X(\"top_genes\", axis=alt.Axis(labelAngle=45)).sort(\n",
    "            field=\"fraction\", op=\"median\", order=\"descending\"\n",
    "        ),\n",
    "        alt.Y(\"target_genes\"),\n",
    "        color=color_selection,\n",
    "        tooltip=[\"fraction\"],\n",
    "        # opacity=alt.condition(row_selection, alt.value(0.7), alt.value(1)) # Make transparent if not selected\n",
    "        # text = alt.Text('fraction', bin=True)\n",
    "    )\n",
    "    .add_params(row_selection)\n",
    ")\n",
    "\n",
    "\n",
    "base"
   ]
  },
  {
   "cell_type": "code",
   "execution_count": null,
   "id": "49",
   "metadata": {},
   "outputs": [],
   "source": [
    "model.net.last_attn_weights.mean(0)"
   ]
  },
  {
   "cell_type": "code",
   "execution_count": null,
   "id": "50",
   "metadata": {},
   "outputs": [],
   "source": [
    "plt.imshow(model.net.last_attn_weights.mean(0))\n",
    "plt.colorbar()"
   ]
  },
  {
   "cell_type": "code",
   "execution_count": null,
   "id": "51",
   "metadata": {},
   "outputs": [],
   "source": [
    "model.net.last_attn_weights.mean(0)"
   ]
  },
  {
   "cell_type": "code",
   "execution_count": null,
   "id": "52",
   "metadata": {},
   "outputs": [],
   "source": [
    "from sklearn.metrics import (\n",
    "    calinski_harabasz_score,\n",
    "    davies_bouldin_score,\n",
    "    silhouette_score,\n",
    ")"
   ]
  },
  {
   "cell_type": "code",
   "execution_count": null,
   "id": "53",
   "metadata": {},
   "outputs": [],
   "source": [
    "silhouette_score(y_pred.cpu(), datamodule.test_data.perturbed_genes)"
   ]
  },
  {
   "cell_type": "code",
   "execution_count": null,
   "id": "54",
   "metadata": {},
   "outputs": [],
   "source": [
    "davies_bouldin_score(y_pred.cpu(), datamodule.test_data.perturbed_genes)"
   ]
  },
  {
   "cell_type": "code",
   "execution_count": null,
   "id": "55",
   "metadata": {},
   "outputs": [],
   "source": [
    "calinski_harabasz_score(y_pred.cpu(), datamodule.test_data.perturbed_genes)"
   ]
  },
  {
   "cell_type": "code",
   "execution_count": null,
   "id": "56",
   "metadata": {},
   "outputs": [],
   "source": [
    "[param for param in model.net.perturbation_effect.named_parameters()][0][1]"
   ]
  },
  {
   "cell_type": "code",
   "execution_count": null,
   "id": "57",
   "metadata": {},
   "outputs": [],
   "source": [
    "model.net.b1"
   ]
  },
  {
   "cell_type": "markdown",
   "id": "58",
   "metadata": {},
   "source": [
    "# Trying out cell-eval"
   ]
  },
  {
   "cell_type": "code",
   "execution_count": null,
   "id": "59",
   "metadata": {},
   "outputs": [],
   "source": [
    "torch.cat(prediction).shape"
   ]
  },
  {
   "cell_type": "code",
   "execution_count": null,
   "id": "60",
   "metadata": {},
   "outputs": [],
   "source": [
    "# Save data so you dont have to do previous steps again and again\n",
    "X = torch.cat(prediction).relu().to(torch.float16).numpy()\n",
    "print(X.shape)\n",
    "# np.savez(\"../results/preds.npz\", X)"
   ]
  },
  {
   "cell_type": "code",
   "execution_count": null,
   "id": "61",
   "metadata": {},
   "outputs": [],
   "source": [
    "X = np.load(\"../results/preds.npz\")[\"arr_0\"]  # Care\n",
    "X"
   ]
  },
  {
   "cell_type": "code",
   "execution_count": null,
   "id": "62",
   "metadata": {},
   "outputs": [],
   "source": [
    "data_path = Path(paths[\"DATA_DIR\"])"
   ]
  },
  {
   "cell_type": "code",
   "execution_count": null,
   "id": "63",
   "metadata": {},
   "outputs": [],
   "source": [
    "validation_data = pl.read_csv(data_path / \"processed-data/pert_counts_Validation.csv\")\n",
    "validation_data"
   ]
  },
  {
   "cell_type": "raw",
   "id": "64",
   "metadata": {
    "vscode": {
     "languageId": "raw"
    }
   },
   "source": [
    "import anndata as ad\n",
    "adata = ad.read_h5ad(data_path / \"vcc_data/adata_Training.h5ad\")\n",
    "adata\n",
    "# Get non-targeting data\n",
    "\n",
    "nt_adata = adata[adata.obs['target_gene'] == 'non-targeting']\n",
    "nt_adata\n",
    "gene_names = adata.var.index"
   ]
  },
  {
   "cell_type": "code",
   "execution_count": null,
   "id": "65",
   "metadata": {},
   "outputs": [],
   "source": [
    "gene_names = pl.scan_parquet(conf.data.datamodule.control_data_path).collect_schema().names()[1:]\n",
    "gene_names[:10]"
   ]
  },
  {
   "cell_type": "code",
   "execution_count": null,
   "id": "66",
   "metadata": {},
   "outputs": [],
   "source": [
    "pred_df = pl.DataFrame(X, schema=gene_names)\n",
    "pred_df"
   ]
  },
  {
   "cell_type": "raw",
   "id": "67",
   "metadata": {
    "vscode": {
     "languageId": "raw"
    }
   },
   "source": [
    "with open(\"../results/gene_names.csv\", \"w\") as f:\n",
    "    for gene in gene_names:\n",
    "        f.write(f\"{gene},\\n\")"
   ]
  },
  {
   "cell_type": "code",
   "execution_count": null,
   "id": "68",
   "metadata": {},
   "outputs": [],
   "source": [
    "target_genes = (\n",
    "    validation_data.with_columns(target_gene_2=pl.col(\"target_gene\").repeat_by(\"n_cells\"))\n",
    "    .select(pl.col(\"target_gene_2\").explode().alias(\"target_gene\"))\n",
    "    .to_pandas()\n",
    ")  # Generating the row annotations"
   ]
  },
  {
   "cell_type": "code",
   "execution_count": null,
   "id": "69",
   "metadata": {},
   "outputs": [],
   "source": [
    "# Processing non-targeting data\n",
    "\n",
    "nt_data = pl.read_parquet(conf.data.datamodule.control_data_path)\n",
    "nt_target_genes = (\n",
    "    nt_data.with_columns(pl.lit(\"non-targeting\").alias(\"target_gene\"))\n",
    "    .select(\"target_gene\")\n",
    "    .to_pandas()\n",
    ")\n",
    "nt_data = nt_data.select(pl.all().exclude(\"sample_index\")).to_numpy().astype(np.float32)"
   ]
  },
  {
   "cell_type": "code",
   "execution_count": null,
   "id": "70",
   "metadata": {},
   "outputs": [],
   "source": [
    "X = np.vstack([X.astype(np.float32), nt_data])\n",
    "target_genes = pd.concat([target_genes, nt_target_genes])\n",
    "\n",
    "target_genes"
   ]
  },
  {
   "cell_type": "code",
   "execution_count": null,
   "id": "71",
   "metadata": {},
   "outputs": [],
   "source": [
    "import anndata as ad"
   ]
  },
  {
   "cell_type": "code",
   "execution_count": null,
   "id": "72",
   "metadata": {},
   "outputs": [],
   "source": [
    "result = ad.AnnData(\n",
    "    X=X.astype(np.float32),  # So scipy.sparse doesn't cry\n",
    "    var=pd.DataFrame(index=gene_names),\n",
    "    obs=target_genes,\n",
    ")\n",
    "result"
   ]
  },
  {
   "cell_type": "code",
   "execution_count": null,
   "id": "73",
   "metadata": {},
   "outputs": [],
   "source": [
    "y_pred.sum(-1)"
   ]
  },
  {
   "cell_type": "code",
   "execution_count": null,
   "id": "74",
   "metadata": {},
   "outputs": [],
   "source": [
    "result.write_h5ad(\"../results/prediction_150925.h5ad\")"
   ]
  },
  {
   "cell_type": "code",
   "execution_count": null,
   "id": "75",
   "metadata": {},
   "outputs": [],
   "source": []
  }
 ],
 "metadata": {
  "kernelspec": {
   "display_name": "default",
   "language": "python",
   "name": "python3"
  },
  "language_info": {
   "codemirror_mode": {
    "name": "ipython",
    "version": 3
   },
   "file_extension": ".py",
   "mimetype": "text/x-python",
   "name": "python",
   "nbconvert_exporter": "python",
   "pygments_lexer": "ipython3",
   "version": "3.12.11"
  }
 },
 "nbformat": 4,
 "nbformat_minor": 5
}
